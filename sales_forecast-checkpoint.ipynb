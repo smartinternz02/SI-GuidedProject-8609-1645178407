{
 "cells": [
  {
   "cell_type": "code",
   "execution_count": 1,
   "id": "e4ffff6c",
   "metadata": {},
   "outputs": [],
   "source": [
    "import pandas as pd #Reading the dataset\n",
    "import numpy as np #numerical calculations\n",
    "import matplotlib.pyplot as plt #for data visualization\n",
    "import statsmodels.api as sm #statistical data exploration"
   ]
  },
  {
   "cell_type": "code",
   "execution_count": 2,
   "id": "29e73d65",
   "metadata": {},
   "outputs": [],
   "source": [
    "data=pd.read_excel(r\"C:\\Users\\User\\Downloads\\Sales_Forecasting.xlsx\")"
   ]
  },
  {
   "cell_type": "code",
   "execution_count": 3,
   "id": "7f49db3b",
   "metadata": {},
   "outputs": [
    {
     "data": {
      "text/html": [
       "<div>\n",
       "<style scoped>\n",
       "    .dataframe tbody tr th:only-of-type {\n",
       "        vertical-align: middle;\n",
       "    }\n",
       "\n",
       "    .dataframe tbody tr th {\n",
       "        vertical-align: top;\n",
       "    }\n",
       "\n",
       "    .dataframe thead th {\n",
       "        text-align: right;\n",
       "    }\n",
       "</style>\n",
       "<table border=\"1\" class=\"dataframe\">\n",
       "  <thead>\n",
       "    <tr style=\"text-align: right;\">\n",
       "      <th></th>\n",
       "      <th>HQ</th>\n",
       "      <th>Country</th>\n",
       "      <th>State_of_outlet</th>\n",
       "      <th>City_of_outlet</th>\n",
       "      <th>Month</th>\n",
       "      <th>Day</th>\n",
       "      <th>Year</th>\n",
       "      <th>Total_Sales</th>\n",
       "    </tr>\n",
       "  </thead>\n",
       "  <tbody>\n",
       "    <tr>\n",
       "      <th>0</th>\n",
       "      <td>Asia</td>\n",
       "      <td>India</td>\n",
       "      <td>NaN</td>\n",
       "      <td>Bombay (Mumbai)</td>\n",
       "      <td>1.0</td>\n",
       "      <td>1.0</td>\n",
       "      <td>2005.0</td>\n",
       "      <td>72.2</td>\n",
       "    </tr>\n",
       "    <tr>\n",
       "      <th>1</th>\n",
       "      <td>Asia</td>\n",
       "      <td>India</td>\n",
       "      <td>NaN</td>\n",
       "      <td>Bombay (Mumbai)</td>\n",
       "      <td>1.0</td>\n",
       "      <td>2.0</td>\n",
       "      <td>2005.0</td>\n",
       "      <td>72.7</td>\n",
       "    </tr>\n",
       "    <tr>\n",
       "      <th>2</th>\n",
       "      <td>Asia</td>\n",
       "      <td>India</td>\n",
       "      <td>NaN</td>\n",
       "      <td>Bombay (Mumbai)</td>\n",
       "      <td>1.0</td>\n",
       "      <td>3.0</td>\n",
       "      <td>2005.0</td>\n",
       "      <td>74.3</td>\n",
       "    </tr>\n",
       "    <tr>\n",
       "      <th>3</th>\n",
       "      <td>Asia</td>\n",
       "      <td>India</td>\n",
       "      <td>NaN</td>\n",
       "      <td>Bombay (Mumbai)</td>\n",
       "      <td>1.0</td>\n",
       "      <td>4.0</td>\n",
       "      <td>2005.0</td>\n",
       "      <td>78.9</td>\n",
       "    </tr>\n",
       "    <tr>\n",
       "      <th>4</th>\n",
       "      <td>Asia</td>\n",
       "      <td>India</td>\n",
       "      <td>NaN</td>\n",
       "      <td>Bombay (Mumbai)</td>\n",
       "      <td>1.0</td>\n",
       "      <td>5.0</td>\n",
       "      <td>2005.0</td>\n",
       "      <td>81.5</td>\n",
       "    </tr>\n",
       "  </tbody>\n",
       "</table>\n",
       "</div>"
      ],
      "text/plain": [
       "     HQ Country  State_of_outlet   City_of_outlet  Month  Day    Year  \\\n",
       "0  Asia   India              NaN  Bombay (Mumbai)    1.0  1.0  2005.0   \n",
       "1  Asia   India              NaN  Bombay (Mumbai)    1.0  2.0  2005.0   \n",
       "2  Asia   India              NaN  Bombay (Mumbai)    1.0  3.0  2005.0   \n",
       "3  Asia   India              NaN  Bombay (Mumbai)    1.0  4.0  2005.0   \n",
       "4  Asia   India              NaN  Bombay (Mumbai)    1.0  5.0  2005.0   \n",
       "\n",
       "   Total_Sales  \n",
       "0         72.2  \n",
       "1         72.7  \n",
       "2         74.3  \n",
       "3         78.9  \n",
       "4         81.5  "
      ]
     },
     "execution_count": 3,
     "metadata": {},
     "output_type": "execute_result"
    }
   ],
   "source": [
    "data.head()"
   ]
  },
  {
   "cell_type": "code",
   "execution_count": 4,
   "id": "0bbf67bf",
   "metadata": {},
   "outputs": [
    {
     "data": {
      "text/html": [
       "<div>\n",
       "<style scoped>\n",
       "    .dataframe tbody tr th:only-of-type {\n",
       "        vertical-align: middle;\n",
       "    }\n",
       "\n",
       "    .dataframe tbody tr th {\n",
       "        vertical-align: top;\n",
       "    }\n",
       "\n",
       "    .dataframe thead th {\n",
       "        text-align: right;\n",
       "    }\n",
       "</style>\n",
       "<table border=\"1\" class=\"dataframe\">\n",
       "  <thead>\n",
       "    <tr style=\"text-align: right;\">\n",
       "      <th></th>\n",
       "      <th>HQ</th>\n",
       "      <th>Country</th>\n",
       "      <th>State_of_outlet</th>\n",
       "      <th>City_of_outlet</th>\n",
       "      <th>Month</th>\n",
       "      <th>Day</th>\n",
       "      <th>Year</th>\n",
       "      <th>Total_Sales</th>\n",
       "    </tr>\n",
       "  </thead>\n",
       "  <tbody>\n",
       "    <tr>\n",
       "      <th>17531</th>\n",
       "      <td>Asia</td>\n",
       "      <td>India</td>\n",
       "      <td>NaN</td>\n",
       "      <td>Delhi</td>\n",
       "      <td>12.0</td>\n",
       "      <td>27.0</td>\n",
       "      <td>2016.0</td>\n",
       "      <td>61.3</td>\n",
       "    </tr>\n",
       "    <tr>\n",
       "      <th>17532</th>\n",
       "      <td>Asia</td>\n",
       "      <td>India</td>\n",
       "      <td>NaN</td>\n",
       "      <td>Delhi</td>\n",
       "      <td>12.0</td>\n",
       "      <td>28.0</td>\n",
       "      <td>2016.0</td>\n",
       "      <td>61.7</td>\n",
       "    </tr>\n",
       "    <tr>\n",
       "      <th>17533</th>\n",
       "      <td>Asia</td>\n",
       "      <td>India</td>\n",
       "      <td>NaN</td>\n",
       "      <td>Delhi</td>\n",
       "      <td>12.0</td>\n",
       "      <td>29.0</td>\n",
       "      <td>2016.0</td>\n",
       "      <td>59.3</td>\n",
       "    </tr>\n",
       "    <tr>\n",
       "      <th>17534</th>\n",
       "      <td>Asia</td>\n",
       "      <td>India</td>\n",
       "      <td>NaN</td>\n",
       "      <td>Delhi</td>\n",
       "      <td>12.0</td>\n",
       "      <td>30.0</td>\n",
       "      <td>2016.0</td>\n",
       "      <td>57.1</td>\n",
       "    </tr>\n",
       "    <tr>\n",
       "      <th>17535</th>\n",
       "      <td>Asia</td>\n",
       "      <td>India</td>\n",
       "      <td>NaN</td>\n",
       "      <td>Delhi</td>\n",
       "      <td>12.0</td>\n",
       "      <td>31.0</td>\n",
       "      <td>2016.0</td>\n",
       "      <td>58.3</td>\n",
       "    </tr>\n",
       "  </tbody>\n",
       "</table>\n",
       "</div>"
      ],
      "text/plain": [
       "         HQ Country  State_of_outlet City_of_outlet  Month   Day    Year  \\\n",
       "17531  Asia   India              NaN          Delhi   12.0  27.0  2016.0   \n",
       "17532  Asia   India              NaN          Delhi   12.0  28.0  2016.0   \n",
       "17533  Asia   India              NaN          Delhi   12.0  29.0  2016.0   \n",
       "17534  Asia   India              NaN          Delhi   12.0  30.0  2016.0   \n",
       "17535  Asia   India              NaN          Delhi   12.0  31.0  2016.0   \n",
       "\n",
       "       Total_Sales  \n",
       "17531         61.3  \n",
       "17532         61.7  \n",
       "17533         59.3  \n",
       "17534         57.1  \n",
       "17535         58.3  "
      ]
     },
     "execution_count": 4,
     "metadata": {},
     "output_type": "execute_result"
    }
   ],
   "source": [
    "data.tail()"
   ]
  },
  {
   "cell_type": "code",
   "execution_count": 5,
   "id": "7e89a50e",
   "metadata": {},
   "outputs": [
    {
     "data": {
      "text/html": [
       "<div>\n",
       "<style scoped>\n",
       "    .dataframe tbody tr th:only-of-type {\n",
       "        vertical-align: middle;\n",
       "    }\n",
       "\n",
       "    .dataframe tbody tr th {\n",
       "        vertical-align: top;\n",
       "    }\n",
       "\n",
       "    .dataframe thead th {\n",
       "        text-align: right;\n",
       "    }\n",
       "</style>\n",
       "<table border=\"1\" class=\"dataframe\">\n",
       "  <thead>\n",
       "    <tr style=\"text-align: right;\">\n",
       "      <th></th>\n",
       "      <th>State_of_outlet</th>\n",
       "      <th>Month</th>\n",
       "      <th>Day</th>\n",
       "      <th>Year</th>\n",
       "      <th>Total_Sales</th>\n",
       "    </tr>\n",
       "  </thead>\n",
       "  <tbody>\n",
       "    <tr>\n",
       "      <th>count</th>\n",
       "      <td>0.0</td>\n",
       "      <td>17536.000000</td>\n",
       "      <td>17536.000000</td>\n",
       "      <td>17536.000000</td>\n",
       "      <td>17536.000000</td>\n",
       "    </tr>\n",
       "    <tr>\n",
       "      <th>mean</th>\n",
       "      <td>NaN</td>\n",
       "      <td>6.524179</td>\n",
       "      <td>15.732892</td>\n",
       "      <td>2010.502053</td>\n",
       "      <td>80.117963</td>\n",
       "    </tr>\n",
       "    <tr>\n",
       "      <th>std</th>\n",
       "      <td>NaN</td>\n",
       "      <td>3.449400</td>\n",
       "      <td>8.801978</td>\n",
       "      <td>3.452525</td>\n",
       "      <td>13.315486</td>\n",
       "    </tr>\n",
       "    <tr>\n",
       "      <th>min</th>\n",
       "      <td>NaN</td>\n",
       "      <td>1.000000</td>\n",
       "      <td>1.000000</td>\n",
       "      <td>2005.000000</td>\n",
       "      <td>-99.000000</td>\n",
       "    </tr>\n",
       "    <tr>\n",
       "      <th>25%</th>\n",
       "      <td>NaN</td>\n",
       "      <td>4.000000</td>\n",
       "      <td>8.000000</td>\n",
       "      <td>2008.000000</td>\n",
       "      <td>77.500000</td>\n",
       "    </tr>\n",
       "    <tr>\n",
       "      <th>50%</th>\n",
       "      <td>NaN</td>\n",
       "      <td>7.000000</td>\n",
       "      <td>16.000000</td>\n",
       "      <td>2011.000000</td>\n",
       "      <td>82.600000</td>\n",
       "    </tr>\n",
       "    <tr>\n",
       "      <th>75%</th>\n",
       "      <td>NaN</td>\n",
       "      <td>10.000000</td>\n",
       "      <td>23.000000</td>\n",
       "      <td>2014.000000</td>\n",
       "      <td>86.100000</td>\n",
       "    </tr>\n",
       "    <tr>\n",
       "      <th>max</th>\n",
       "      <td>NaN</td>\n",
       "      <td>12.000000</td>\n",
       "      <td>31.000000</td>\n",
       "      <td>2016.000000</td>\n",
       "      <td>102.500000</td>\n",
       "    </tr>\n",
       "  </tbody>\n",
       "</table>\n",
       "</div>"
      ],
      "text/plain": [
       "       State_of_outlet         Month           Day          Year   Total_Sales\n",
       "count              0.0  17536.000000  17536.000000  17536.000000  17536.000000\n",
       "mean               NaN      6.524179     15.732892   2010.502053     80.117963\n",
       "std                NaN      3.449400      8.801978      3.452525     13.315486\n",
       "min                NaN      1.000000      1.000000   2005.000000    -99.000000\n",
       "25%                NaN      4.000000      8.000000   2008.000000     77.500000\n",
       "50%                NaN      7.000000     16.000000   2011.000000     82.600000\n",
       "75%                NaN     10.000000     23.000000   2014.000000     86.100000\n",
       "max                NaN     12.000000     31.000000   2016.000000    102.500000"
      ]
     },
     "execution_count": 5,
     "metadata": {},
     "output_type": "execute_result"
    }
   ],
   "source": [
    "data.describe()"
   ]
  },
  {
   "cell_type": "code",
   "execution_count": 6,
   "id": "6766f51a",
   "metadata": {},
   "outputs": [
    {
     "name": "stdout",
     "output_type": "stream",
     "text": [
      "<class 'pandas.core.frame.DataFrame'>\n",
      "RangeIndex: 17536 entries, 0 to 17535\n",
      "Data columns (total 8 columns):\n",
      " #   Column           Non-Null Count  Dtype  \n",
      "---  ------           --------------  -----  \n",
      " 0   HQ               17536 non-null  object \n",
      " 1   Country          17536 non-null  object \n",
      " 2   State_of_outlet  0 non-null      float64\n",
      " 3   City_of_outlet   17536 non-null  object \n",
      " 4   Month            17536 non-null  float64\n",
      " 5   Day              17536 non-null  float64\n",
      " 6   Year             17536 non-null  float64\n",
      " 7   Total_Sales      17536 non-null  float64\n",
      "dtypes: float64(5), object(3)\n",
      "memory usage: 1.1+ MB\n"
     ]
    }
   ],
   "source": [
    "data.info()"
   ]
  },
  {
   "cell_type": "code",
   "execution_count": 7,
   "id": "472718e3",
   "metadata": {},
   "outputs": [],
   "source": [
    "from datetime import datetime\n",
    "data['Date'] = data.apply(lambda row: datetime.strptime(f\"{int(row.Year)}-{int(row.Month)}-{int(row.Day)}\", '%Y-%m-%d'), axis=1)"
   ]
  },
  {
   "cell_type": "code",
   "execution_count": 8,
   "id": "053ac35f",
   "metadata": {},
   "outputs": [
    {
     "data": {
      "text/plain": [
       "(Timestamp('2005-01-01 00:00:00'), Timestamp('2016-12-31 00:00:00'))"
      ]
     },
     "execution_count": 8,
     "metadata": {},
     "output_type": "execute_result"
    }
   ],
   "source": [
    "data['Date'].min(), data['Date'].max()"
   ]
  },
  {
   "cell_type": "code",
   "execution_count": 9,
   "id": "2d478ffb",
   "metadata": {},
   "outputs": [],
   "source": [
    "cols = ['Month','Day','Year','City_of_outlet','State_of_outlet','Country','HQ']\n",
    "data.drop(cols, axis=1, inplace=True)\n",
    "data = data.sort_values('Date')"
   ]
  },
  {
   "cell_type": "code",
   "execution_count": 10,
   "id": "3d7ae664",
   "metadata": {},
   "outputs": [
    {
     "data": {
      "text/plain": [
       "Total_Sales     539\n",
       "Date           4383\n",
       "dtype: int64"
      ]
     },
     "execution_count": 10,
     "metadata": {},
     "output_type": "execute_result"
    }
   ],
   "source": [
    "data.nunique()"
   ]
  },
  {
   "cell_type": "code",
   "execution_count": 11,
   "id": "bc242873",
   "metadata": {},
   "outputs": [
    {
     "data": {
      "text/plain": [
       "Total_Sales    False\n",
       "Date           False\n",
       "dtype: bool"
      ]
     },
     "execution_count": 11,
     "metadata": {},
     "output_type": "execute_result"
    }
   ],
   "source": [
    "data.isnull().any()"
   ]
  },
  {
   "cell_type": "code",
   "execution_count": 12,
   "id": "6a891a81",
   "metadata": {},
   "outputs": [
    {
     "data": {
      "text/html": [
       "<div>\n",
       "<style scoped>\n",
       "    .dataframe tbody tr th:only-of-type {\n",
       "        vertical-align: middle;\n",
       "    }\n",
       "\n",
       "    .dataframe tbody tr th {\n",
       "        vertical-align: top;\n",
       "    }\n",
       "\n",
       "    .dataframe thead th {\n",
       "        text-align: right;\n",
       "    }\n",
       "</style>\n",
       "<table border=\"1\" class=\"dataframe\">\n",
       "  <thead>\n",
       "    <tr style=\"text-align: right;\">\n",
       "      <th></th>\n",
       "      <th>Total_Sales</th>\n",
       "      <th>Date</th>\n",
       "    </tr>\n",
       "  </thead>\n",
       "  <tbody>\n",
       "    <tr>\n",
       "      <th>0</th>\n",
       "      <td>72.2</td>\n",
       "      <td>2005-01-01</td>\n",
       "    </tr>\n",
       "    <tr>\n",
       "      <th>730</th>\n",
       "      <td>75.8</td>\n",
       "      <td>2005-01-01</td>\n",
       "    </tr>\n",
       "    <tr>\n",
       "      <th>1095</th>\n",
       "      <td>61.0</td>\n",
       "      <td>2005-01-01</td>\n",
       "    </tr>\n",
       "    <tr>\n",
       "      <th>365</th>\n",
       "      <td>66.5</td>\n",
       "      <td>2005-01-01</td>\n",
       "    </tr>\n",
       "    <tr>\n",
       "      <th>1</th>\n",
       "      <td>72.7</td>\n",
       "      <td>2005-01-02</td>\n",
       "    </tr>\n",
       "    <tr>\n",
       "      <th>...</th>\n",
       "      <td>...</td>\n",
       "      <td>...</td>\n",
       "    </tr>\n",
       "    <tr>\n",
       "      <th>16802</th>\n",
       "      <td>67.4</td>\n",
       "      <td>2016-12-30</td>\n",
       "    </tr>\n",
       "    <tr>\n",
       "      <th>17169</th>\n",
       "      <td>76.8</td>\n",
       "      <td>2016-12-31</td>\n",
       "    </tr>\n",
       "    <tr>\n",
       "      <th>16437</th>\n",
       "      <td>79.7</td>\n",
       "      <td>2016-12-31</td>\n",
       "    </tr>\n",
       "    <tr>\n",
       "      <th>16803</th>\n",
       "      <td>67.1</td>\n",
       "      <td>2016-12-31</td>\n",
       "    </tr>\n",
       "    <tr>\n",
       "      <th>17535</th>\n",
       "      <td>58.3</td>\n",
       "      <td>2016-12-31</td>\n",
       "    </tr>\n",
       "  </tbody>\n",
       "</table>\n",
       "<p>17536 rows × 2 columns</p>\n",
       "</div>"
      ],
      "text/plain": [
       "       Total_Sales       Date\n",
       "0             72.2 2005-01-01\n",
       "730           75.8 2005-01-01\n",
       "1095          61.0 2005-01-01\n",
       "365           66.5 2005-01-01\n",
       "1             72.7 2005-01-02\n",
       "...            ...        ...\n",
       "16802         67.4 2016-12-30\n",
       "17169         76.8 2016-12-31\n",
       "16437         79.7 2016-12-31\n",
       "16803         67.1 2016-12-31\n",
       "17535         58.3 2016-12-31\n",
       "\n",
       "[17536 rows x 2 columns]"
      ]
     },
     "execution_count": 12,
     "metadata": {},
     "output_type": "execute_result"
    }
   ],
   "source": [
    "data"
   ]
  },
  {
   "cell_type": "code",
   "execution_count": 13,
   "id": "207657d4",
   "metadata": {},
   "outputs": [
    {
     "data": {
      "text/plain": [
       "(17536, 2)"
      ]
     },
     "execution_count": 13,
     "metadata": {},
     "output_type": "execute_result"
    }
   ],
   "source": [
    "data.shape"
   ]
  },
  {
   "cell_type": "code",
   "execution_count": 14,
   "id": "5dbfef5f",
   "metadata": {},
   "outputs": [
    {
     "data": {
      "text/html": [
       "<div>\n",
       "<style scoped>\n",
       "    .dataframe tbody tr th:only-of-type {\n",
       "        vertical-align: middle;\n",
       "    }\n",
       "\n",
       "    .dataframe tbody tr th {\n",
       "        vertical-align: top;\n",
       "    }\n",
       "\n",
       "    .dataframe thead th {\n",
       "        text-align: right;\n",
       "    }\n",
       "</style>\n",
       "<table border=\"1\" class=\"dataframe\">\n",
       "  <thead>\n",
       "    <tr style=\"text-align: right;\">\n",
       "      <th></th>\n",
       "      <th>Total_Sales</th>\n",
       "      <th>Date</th>\n",
       "    </tr>\n",
       "  </thead>\n",
       "  <tbody>\n",
       "    <tr>\n",
       "      <th>0</th>\n",
       "      <td>72.2</td>\n",
       "      <td>2005-01-01</td>\n",
       "    </tr>\n",
       "    <tr>\n",
       "      <th>730</th>\n",
       "      <td>75.8</td>\n",
       "      <td>2005-01-01</td>\n",
       "    </tr>\n",
       "    <tr>\n",
       "      <th>1095</th>\n",
       "      <td>61.0</td>\n",
       "      <td>2005-01-01</td>\n",
       "    </tr>\n",
       "    <tr>\n",
       "      <th>365</th>\n",
       "      <td>66.5</td>\n",
       "      <td>2005-01-01</td>\n",
       "    </tr>\n",
       "    <tr>\n",
       "      <th>1</th>\n",
       "      <td>72.7</td>\n",
       "      <td>2005-01-02</td>\n",
       "    </tr>\n",
       "    <tr>\n",
       "      <th>...</th>\n",
       "      <td>...</td>\n",
       "      <td>...</td>\n",
       "    </tr>\n",
       "    <tr>\n",
       "      <th>16802</th>\n",
       "      <td>67.4</td>\n",
       "      <td>2016-12-30</td>\n",
       "    </tr>\n",
       "    <tr>\n",
       "      <th>17169</th>\n",
       "      <td>76.8</td>\n",
       "      <td>2016-12-31</td>\n",
       "    </tr>\n",
       "    <tr>\n",
       "      <th>16437</th>\n",
       "      <td>79.7</td>\n",
       "      <td>2016-12-31</td>\n",
       "    </tr>\n",
       "    <tr>\n",
       "      <th>16803</th>\n",
       "      <td>67.1</td>\n",
       "      <td>2016-12-31</td>\n",
       "    </tr>\n",
       "    <tr>\n",
       "      <th>17535</th>\n",
       "      <td>58.3</td>\n",
       "      <td>2016-12-31</td>\n",
       "    </tr>\n",
       "  </tbody>\n",
       "</table>\n",
       "<p>17536 rows × 2 columns</p>\n",
       "</div>"
      ],
      "text/plain": [
       "       Total_Sales       Date\n",
       "0             72.2 2005-01-01\n",
       "730           75.8 2005-01-01\n",
       "1095          61.0 2005-01-01\n",
       "365           66.5 2005-01-01\n",
       "1             72.7 2005-01-02\n",
       "...            ...        ...\n",
       "16802         67.4 2016-12-30\n",
       "17169         76.8 2016-12-31\n",
       "16437         79.7 2016-12-31\n",
       "16803         67.1 2016-12-31\n",
       "17535         58.3 2016-12-31\n",
       "\n",
       "[17536 rows x 2 columns]"
      ]
     },
     "execution_count": 14,
     "metadata": {},
     "output_type": "execute_result"
    }
   ],
   "source": [
    "data"
   ]
  },
  {
   "cell_type": "code",
   "execution_count": 15,
   "id": "75872057",
   "metadata": {},
   "outputs": [
    {
     "data": {
      "text/plain": [
       "DatetimeIndex(['2005-01-01', '2005-01-01', '2005-01-01', '2005-01-01',\n",
       "               '2005-01-02', '2005-01-02', '2005-01-02', '2005-01-02',\n",
       "               '2005-01-03', '2005-01-03',\n",
       "               ...\n",
       "               '2016-12-29', '2016-12-29', '2016-12-30', '2016-12-30',\n",
       "               '2016-12-30', '2016-12-30', '2016-12-31', '2016-12-31',\n",
       "               '2016-12-31', '2016-12-31'],\n",
       "              dtype='datetime64[ns]', name='Date', length=17536, freq=None)"
      ]
     },
     "execution_count": 15,
     "metadata": {},
     "output_type": "execute_result"
    }
   ],
   "source": [
    "Sales_y= data.set_index('Date')\n",
    "Sales_y.index"
   ]
  },
  {
   "cell_type": "code",
   "execution_count": 16,
   "id": "e514b057",
   "metadata": {},
   "outputs": [
    {
     "data": {
      "text/html": [
       "<div>\n",
       "<style scoped>\n",
       "    .dataframe tbody tr th:only-of-type {\n",
       "        vertical-align: middle;\n",
       "    }\n",
       "\n",
       "    .dataframe tbody tr th {\n",
       "        vertical-align: top;\n",
       "    }\n",
       "\n",
       "    .dataframe thead th {\n",
       "        text-align: right;\n",
       "    }\n",
       "</style>\n",
       "<table border=\"1\" class=\"dataframe\">\n",
       "  <thead>\n",
       "    <tr style=\"text-align: right;\">\n",
       "      <th></th>\n",
       "      <th>Total_Sales</th>\n",
       "    </tr>\n",
       "    <tr>\n",
       "      <th>Date</th>\n",
       "      <th></th>\n",
       "    </tr>\n",
       "  </thead>\n",
       "  <tbody>\n",
       "    <tr>\n",
       "      <th>2005-01-01</th>\n",
       "      <td>72.2</td>\n",
       "    </tr>\n",
       "    <tr>\n",
       "      <th>2005-01-01</th>\n",
       "      <td>75.8</td>\n",
       "    </tr>\n",
       "    <tr>\n",
       "      <th>2005-01-01</th>\n",
       "      <td>61.0</td>\n",
       "    </tr>\n",
       "    <tr>\n",
       "      <th>2005-01-01</th>\n",
       "      <td>66.5</td>\n",
       "    </tr>\n",
       "    <tr>\n",
       "      <th>2005-01-02</th>\n",
       "      <td>72.7</td>\n",
       "    </tr>\n",
       "    <tr>\n",
       "      <th>...</th>\n",
       "      <td>...</td>\n",
       "    </tr>\n",
       "    <tr>\n",
       "      <th>2016-12-30</th>\n",
       "      <td>67.4</td>\n",
       "    </tr>\n",
       "    <tr>\n",
       "      <th>2016-12-31</th>\n",
       "      <td>76.8</td>\n",
       "    </tr>\n",
       "    <tr>\n",
       "      <th>2016-12-31</th>\n",
       "      <td>79.7</td>\n",
       "    </tr>\n",
       "    <tr>\n",
       "      <th>2016-12-31</th>\n",
       "      <td>67.1</td>\n",
       "    </tr>\n",
       "    <tr>\n",
       "      <th>2016-12-31</th>\n",
       "      <td>58.3</td>\n",
       "    </tr>\n",
       "  </tbody>\n",
       "</table>\n",
       "<p>17536 rows × 1 columns</p>\n",
       "</div>"
      ],
      "text/plain": [
       "            Total_Sales\n",
       "Date                   \n",
       "2005-01-01         72.2\n",
       "2005-01-01         75.8\n",
       "2005-01-01         61.0\n",
       "2005-01-01         66.5\n",
       "2005-01-02         72.7\n",
       "...                 ...\n",
       "2016-12-30         67.4\n",
       "2016-12-31         76.8\n",
       "2016-12-31         79.7\n",
       "2016-12-31         67.1\n",
       "2016-12-31         58.3\n",
       "\n",
       "[17536 rows x 1 columns]"
      ]
     },
     "execution_count": 16,
     "metadata": {},
     "output_type": "execute_result"
    }
   ],
   "source": [
    "Sales_y"
   ]
  },
  {
   "cell_type": "code",
   "execution_count": 17,
   "id": "9aae43e6",
   "metadata": {},
   "outputs": [],
   "source": [
    "Sales=Sales_y.copy()"
   ]
  },
  {
   "cell_type": "code",
   "execution_count": 18,
   "id": "036d4528",
   "metadata": {},
   "outputs": [
    {
     "data": {
      "text/plain": [
       "(17536, 1)"
      ]
     },
     "execution_count": 18,
     "metadata": {},
     "output_type": "execute_result"
    }
   ],
   "source": [
    "Sales_y.shape"
   ]
  },
  {
   "cell_type": "code",
   "execution_count": null,
   "id": "9297a14b",
   "metadata": {},
   "outputs": [],
   "source": [
    "pip install tensorflow --ignore-installed --user"
   ]
  },
  {
   "cell_type": "code",
   "execution_count": null,
   "id": "d3ee0b47",
   "metadata": {},
   "outputs": [],
   "source": [
    "import tensorflow as tf"
   ]
  },
  {
   "cell_type": "code",
   "execution_count": null,
   "id": "98bd19fa",
   "metadata": {},
   "outputs": [],
   "source": [
    "tf.__version__"
   ]
  },
  {
   "cell_type": "code",
   "execution_count": null,
   "id": "f34f7dad",
   "metadata": {},
   "outputs": [],
   "source": [
    "import keras"
   ]
  },
  {
   "cell_type": "code",
   "execution_count": null,
   "id": "e613e804",
   "metadata": {},
   "outputs": [],
   "source": [
    "keras.__version__"
   ]
  },
  {
   "cell_type": "code",
   "execution_count": null,
   "id": "8c2cd809",
   "metadata": {},
   "outputs": [],
   "source": [
    "plt.plot(Sales_y, color = 'violet')\n",
    "plt.title('SALES FROM 2005 TO 2016')\n",
    "plt.xlabel('Days')\n",
    "plt.ylabel('Sales')\n",
    "plt.show()"
   ]
  },
  {
   "cell_type": "code",
   "execution_count": null,
   "id": "cebde609",
   "metadata": {},
   "outputs": [],
   "source": [
    "monthly_sales = Sales_y['Total_Sales'].resample('MS').mean()"
   ]
  },
  {
   "cell_type": "code",
   "execution_count": null,
   "id": "bfde6d95",
   "metadata": {},
   "outputs": [],
   "source": [
    "monthly_sales.plot(figsize=(15, 6))\n",
    "plt.show()"
   ]
  },
  {
   "cell_type": "code",
   "execution_count": null,
   "id": "79be3625",
   "metadata": {},
   "outputs": [],
   "source": [
    "from pylab import rcParams\n",
    "rcParams['figure.figsize'] = 18, 8\n",
    "\n",
    "decomposition = sm.tsa.seasonal_decompose(monthly_sales, model='additive')\n",
    "fig = decomposition.plot()\n",
    "plt.show()"
   ]
  },
  {
   "cell_type": "code",
   "execution_count": null,
   "id": "bca3e59e",
   "metadata": {},
   "outputs": [],
   "source": [
    "from sklearn.preprocessing import MinMaxScaler\n",
    "scaler=MinMaxScaler(feature_range=(0,1))\n",
    "Sales_y=scaler.fit_transform(np.array(Sales_y).reshape(-1,1))"
   ]
  },
  {
   "cell_type": "code",
   "execution_count": null,
   "id": "b5e13688",
   "metadata": {},
   "outputs": [],
   "source": [
    "import pickle\n",
    "pickle.dump(scaler,open(\"Scaler_forecast.pkl\",\"wb\"))"
   ]
  },
  {
   "cell_type": "code",
   "execution_count": null,
   "id": "91dcbaa9",
   "metadata": {},
   "outputs": [],
   "source": [
    "Sales_y.shape"
   ]
  },
  {
   "cell_type": "code",
   "execution_count": null,
   "id": "f17675eb",
   "metadata": {},
   "outputs": [],
   "source": [
    "training_size=int(len(Sales_y)*0.63)\n",
    "test_size=len(Sales_y)-training_size\n",
    "train_data,test_data=Sales_y[0:training_size,:],Sales_y[training_size:len(Sales_y),:1]"
   ]
  },
  {
   "cell_type": "code",
   "execution_count": null,
   "id": "f81e52da",
   "metadata": {},
   "outputs": [],
   "source": [
    "training_size,test_size"
   ]
  },
  {
   "cell_type": "code",
   "execution_count": null,
   "id": "366727e4",
   "metadata": {},
   "outputs": [],
   "source": [
    "train_data"
   ]
  },
  {
   "cell_type": "code",
   "execution_count": null,
   "id": "f32c0d16",
   "metadata": {},
   "outputs": [],
   "source": [
    "train_data.shape"
   ]
  },
  {
   "cell_type": "code",
   "execution_count": null,
   "id": "75772892",
   "metadata": {},
   "outputs": [],
   "source": [
    "def create_dataset(dataset, time_step=1):\n",
    "\tdataX, dataY = [], []\n",
    "\tfor i in range(len(dataset)-time_step-1):\n",
    "\t\ta = dataset[i:(i+time_step), 0]   ###i=0, 0,1,2,3-----99   100 \n",
    "\t\tdataX.append(a)\n",
    "\t\tdataY.append(dataset[i + time_step, 0])\n",
    "\treturn np.array(dataX), np.array(dataY)"
   ]
  },
  {
   "cell_type": "code",
   "execution_count": null,
   "id": "7f69793b",
   "metadata": {},
   "outputs": [],
   "source": [
    "time_step = 10# considering last year for forecasting\n",
    "X_train, y_train = create_dataset(train_data, time_step)\n",
    "X_test, ytest = create_dataset(test_data, time_step)"
   ]
  },
  {
   "cell_type": "code",
   "execution_count": null,
   "id": "9b7c5d46",
   "metadata": {},
   "outputs": [],
   "source": [
    "print(X_train.shape), print(y_train.shape)"
   ]
  },
  {
   "cell_type": "code",
   "execution_count": null,
   "id": "98f92328",
   "metadata": {},
   "outputs": [],
   "source": [
    "print(X_test.shape), print(ytest.shape)"
   ]
  },
  {
   "cell_type": "code",
   "execution_count": null,
   "id": "82e31c36",
   "metadata": {},
   "outputs": [],
   "source": [
    "X_train"
   ]
  },
  {
   "cell_type": "code",
   "execution_count": null,
   "id": "45917725",
   "metadata": {},
   "outputs": [],
   "source": [
    "y_train"
   ]
  },
  {
   "cell_type": "code",
   "execution_count": null,
   "id": "92870449",
   "metadata": {},
   "outputs": [],
   "source": [
    "X_test"
   ]
  },
  {
   "cell_type": "code",
   "execution_count": null,
   "id": "77937243",
   "metadata": {},
   "outputs": [],
   "source": [
    "X_train =X_train.reshape(X_train.shape[0],X_train.shape[1],1)\n",
    "X_test = X_test.reshape(X_test.shape[0],X_test.shape[1],1)"
   ]
  },
  {
   "cell_type": "code",
   "execution_count": null,
   "id": "1c8133d0",
   "metadata": {},
   "outputs": [],
   "source": [
    "X_train.shape[0],X_train.shape[1]"
   ]
  },
  {
   "cell_type": "code",
   "execution_count": null,
   "id": "50a7e5f4",
   "metadata": {},
   "outputs": [],
   "source": [
    "from tensorflow.keras.models import Sequential#it is a plain stack of layers\n",
    "from tensorflow.keras.layers import Dense#Dense layer is the regular deeply connected neural network layer\n",
    "from tensorflow.keras.layers import LSTM #Long Short Trem Memory"
   ]
  },
  {
   "cell_type": "code",
   "execution_count": null,
   "id": "b99d9ec5",
   "metadata": {},
   "outputs": [],
   "source": [
    "model=Sequential()\n",
    "model.add(LSTM(50,return_sequences=True,input_shape=(10,1)))\n",
    "model.add(LSTM(50,return_sequences=True))\n",
    "model.add(LSTM(50))\n",
    "model.add(Dense(1))\n",
    "model.compile(loss='mean_squared_error',optimizer='adam')"
   ]
  },
  {
   "cell_type": "code",
   "execution_count": null,
   "id": "5b17c028",
   "metadata": {},
   "outputs": [],
   "source": [
    "model.summary()"
   ]
  },
  {
   "cell_type": "code",
   "execution_count": null,
   "id": "db7eb2f0",
   "metadata": {},
   "outputs": [],
   "source": [
    "model.fit(X_train,y_train,validation_data=(X_test,ytest),epochs=200,batch_size=64,verbose=1)"
   ]
  },
  {
   "cell_type": "code",
   "execution_count": null,
   "id": "c7919b10",
   "metadata": {},
   "outputs": [],
   "source": [
    "train_predict=model.predict(X_train)\n",
    "test_predict=model.predict(X_test)"
   ]
  },
  {
   "cell_type": "code",
   "execution_count": null,
   "id": "2a2d8ed2",
   "metadata": {},
   "outputs": [],
   "source": [
    "train_predict=scaler.inverse_transform(train_predict)\n",
    "test_predict=scaler.inverse_transform(test_predict)"
   ]
  },
  {
   "cell_type": "code",
   "execution_count": null,
   "id": "3f5f49ea",
   "metadata": {},
   "outputs": [],
   "source": [
    "ytest[0:5]"
   ]
  },
  {
   "cell_type": "code",
   "execution_count": null,
   "id": "a4b0a1cc",
   "metadata": {},
   "outputs": [],
   "source": [
    "y_pred = model.predict(X_test,batch_size=1)"
   ]
  },
  {
   "cell_type": "code",
   "execution_count": null,
   "id": "a7d01945",
   "metadata": {},
   "outputs": [],
   "source": [
    "y_pred[0:5]"
   ]
  },
  {
   "cell_type": "code",
   "execution_count": null,
   "id": "2b189990",
   "metadata": {},
   "outputs": [],
   "source": [
    "import math\n",
    "from sklearn.metrics import mean_squared_error\n",
    "math.sqrt(mean_squared_error(y_train,train_predict))"
   ]
  },
  {
   "cell_type": "code",
   "execution_count": null,
   "id": "65d81943",
   "metadata": {},
   "outputs": [],
   "source": [
    "math.sqrt(mean_squared_error(ytest,test_predict))"
   ]
  },
  {
   "cell_type": "code",
   "execution_count": null,
   "id": "d806840a",
   "metadata": {},
   "outputs": [],
   "source": [
    "look_back=10\n",
    "trainPredictPlot = np.empty_like(Sales_y)\n",
    "trainPredictPlot[:, :] = np.nan\n",
    "trainPredictPlot[look_back:len(train_predict)+look_back, :] = train_predict\n",
    "# shift test predictions for plotting\n",
    "testPredictPlot = np.empty_like(Sales_y)\n",
    "testPredictPlot[:, :] = np.nan\n",
    "testPredictPlot[len(train_predict)+(look_back*2)+1:len(Sales_y)-1, :] = test_predict\n",
    "# plot baseline and predictions\n",
    "plt.plot(scaler.inverse_transform(Sales_y))\n",
    "plt.plot(trainPredictPlot)\n",
    "plt.plot(testPredictPlot)\n",
    "plt.show()"
   ]
  },
  {
   "cell_type": "code",
   "execution_count": null,
   "id": "fe525ce7",
   "metadata": {},
   "outputs": [],
   "source": [
    "model.save(\"sales_forecast.h5\")"
   ]
  },
  {
   "cell_type": "code",
   "execution_count": null,
   "id": "3456360d",
   "metadata": {},
   "outputs": [],
   "source": [
    "len(Sales)"
   ]
  },
  {
   "cell_type": "code",
   "execution_count": null,
   "id": "5066b5cf",
   "metadata": {},
   "outputs": [],
   "source": [
    "Sales=np.array(Sales)"
   ]
  },
  {
   "cell_type": "code",
   "execution_count": null,
   "id": "a6a433f6",
   "metadata": {},
   "outputs": [],
   "source": [
    "x_input=Sales[4372:4382].reshape(1,-1)\n",
    "x_input.shape"
   ]
  },
  {
   "cell_type": "code",
   "execution_count": null,
   "id": "67a63c83",
   "metadata": {},
   "outputs": [],
   "source": [
    "x_input"
   ]
  },
  {
   "cell_type": "code",
   "execution_count": null,
   "id": "655fdcaf",
   "metadata": {},
   "outputs": [],
   "source": [
    "len(test_data)"
   ]
  },
  {
   "cell_type": "code",
   "execution_count": null,
   "id": "c2c4cf0b",
   "metadata": {},
   "outputs": [],
   "source": [
    "temp_input=list(x_input)\n",
    "temp_input=temp_input[0].tolist()"
   ]
  },
  {
   "cell_type": "code",
   "execution_count": null,
   "id": "6554f576",
   "metadata": {},
   "outputs": [],
   "source": [
    "temp_input"
   ]
  },
  {
   "cell_type": "code",
   "execution_count": null,
   "id": "97ca331f",
   "metadata": {},
   "outputs": [],
   "source": [
    "len(temp_input)"
   ]
  },
  {
   "cell_type": "code",
   "execution_count": null,
   "id": "1f7a55e5",
   "metadata": {},
   "outputs": [],
   "source": [
    "from numpy import array\n",
    "lst_output=[]\n",
    "n_steps=10\n",
    "i=0\n",
    "while(i<10):\n",
    "    \n",
    "    if(len(temp_input)>=10):\n",
    "        #print(\"temp_input\",temp_input)\n",
    "        x_input=np.array(temp_input[0:])\n",
    "        print(\"{} day input {}\".format(i,x_input))\n",
    "        x_input=np.expand_dims(x_input, axis=0)\n",
    "        #x_input=scaler.transform(x_input)\n",
    "        x_input = x_input.reshape((1, n_steps, 1))\n",
    "        yhat = model.predict(x_input, verbose=0)\n",
    "        yhat=scaler.inverse_transform(yhat)\n",
    "        print(\"{} day output {}\".format(i,yhat))\n",
    "        temp_input.extend(yhat[0].tolist())\n",
    "        temp_input=temp_input[1:]\n",
    "        #print(temp_input)\n",
    "        lst_output.extend(yhat.tolist())\n",
    "        i=i+1\n",
    "    else:\n",
    "        print(\"Please give 10 number of inputs\")"
   ]
  },
  {
   "cell_type": "code",
   "execution_count": null,
   "id": "8e98ed9b",
   "metadata": {},
   "outputs": [],
   "source": [
    "day_new=np.arange(1,11)\n",
    "day_pred=np.arange(11,21)"
   ]
  },
  {
   "cell_type": "code",
   "execution_count": null,
   "id": "5995fff7",
   "metadata": {},
   "outputs": [],
   "source": [
    "len(Sales_y)"
   ]
  },
  {
   "cell_type": "code",
   "execution_count": null,
   "id": "f06c5fca",
   "metadata": {},
   "outputs": [],
   "source": []
  }
 ],
 "metadata": {
  "kernelspec": {
   "display_name": "Python 3 (ipykernel)",
   "language": "python",
   "name": "python3"
  },
  "language_info": {
   "codemirror_mode": {
    "name": "ipython",
    "version": 3
   },
   "file_extension": ".py",
   "mimetype": "text/x-python",
   "name": "python",
   "nbconvert_exporter": "python",
   "pygments_lexer": "ipython3",
   "version": "3.9.7"
  }
 },
 "nbformat": 4,
 "nbformat_minor": 5
}
