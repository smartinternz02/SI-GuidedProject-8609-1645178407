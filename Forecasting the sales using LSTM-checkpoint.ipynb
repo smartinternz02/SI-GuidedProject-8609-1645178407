{
 "cells": [
  {
   "cell_type": "code",
   "execution_count": 1,
   "metadata": {},
   "outputs": [],
   "source": [
    "import pandas as pd #Reading the dataset\n",
    "import numpy as np #numerical calculations\n",
    "import matplotlib.pyplot as plt #for data visualization\n",
    "import statsmodels.api as sm #statistical data exploration\n",
    "#tensorflow :open source used for both ML and DL for computation\n",
    "from tensorflow.keras.models import Sequential#it is a plain stack of layers\n",
    "from tensorflow.keras.layers import Dense#Dense layer is the regular deeply connected neural network layer\n",
    "from tensorflow.keras.layers import LSTM #Long Short Trem Memory"
   ]
  },
  {
   "cell_type": "code",
   "execution_count": 4,
   "metadata": {},
   "outputs": [
    {
     "data": {
      "text/html": [
       "<div>\n",
       "<style scoped>\n",
       "    .dataframe tbody tr th:only-of-type {\n",
       "        vertical-align: middle;\n",
       "    }\n",
       "\n",
       "    .dataframe tbody tr th {\n",
       "        vertical-align: top;\n",
       "    }\n",
       "\n",
       "    .dataframe thead th {\n",
       "        text-align: right;\n",
       "    }\n",
       "</style>\n",
       "<table border=\"1\" class=\"dataframe\">\n",
       "  <thead>\n",
       "    <tr style=\"text-align: right;\">\n",
       "      <th></th>\n",
       "      <th>HQ</th>\n",
       "      <th>Country</th>\n",
       "      <th>State_of_outlet</th>\n",
       "      <th>City_of_outlet</th>\n",
       "      <th>Month</th>\n",
       "      <th>Day</th>\n",
       "      <th>Year</th>\n",
       "      <th>Total_Sales</th>\n",
       "    </tr>\n",
       "  </thead>\n",
       "  <tbody>\n",
       "    <tr>\n",
       "      <th>0</th>\n",
       "      <td>Asia</td>\n",
       "      <td>India</td>\n",
       "      <td>NaN</td>\n",
       "      <td>Bombay (Mumbai)</td>\n",
       "      <td>1.0</td>\n",
       "      <td>1.0</td>\n",
       "      <td>2005.0</td>\n",
       "      <td>72.2</td>\n",
       "    </tr>\n",
       "    <tr>\n",
       "      <th>1</th>\n",
       "      <td>Asia</td>\n",
       "      <td>India</td>\n",
       "      <td>NaN</td>\n",
       "      <td>Bombay (Mumbai)</td>\n",
       "      <td>1.0</td>\n",
       "      <td>2.0</td>\n",
       "      <td>2005.0</td>\n",
       "      <td>72.7</td>\n",
       "    </tr>\n",
       "    <tr>\n",
       "      <th>2</th>\n",
       "      <td>Asia</td>\n",
       "      <td>India</td>\n",
       "      <td>NaN</td>\n",
       "      <td>Bombay (Mumbai)</td>\n",
       "      <td>1.0</td>\n",
       "      <td>3.0</td>\n",
       "      <td>2005.0</td>\n",
       "      <td>74.3</td>\n",
       "    </tr>\n",
       "    <tr>\n",
       "      <th>3</th>\n",
       "      <td>Asia</td>\n",
       "      <td>India</td>\n",
       "      <td>NaN</td>\n",
       "      <td>Bombay (Mumbai)</td>\n",
       "      <td>1.0</td>\n",
       "      <td>4.0</td>\n",
       "      <td>2005.0</td>\n",
       "      <td>78.9</td>\n",
       "    </tr>\n",
       "    <tr>\n",
       "      <th>4</th>\n",
       "      <td>Asia</td>\n",
       "      <td>India</td>\n",
       "      <td>NaN</td>\n",
       "      <td>Bombay (Mumbai)</td>\n",
       "      <td>1.0</td>\n",
       "      <td>5.0</td>\n",
       "      <td>2005.0</td>\n",
       "      <td>81.5</td>\n",
       "    </tr>\n",
       "  </tbody>\n",
       "</table>\n",
       "</div>"
      ],
      "text/plain": [
       "     HQ Country  State_of_outlet   City_of_outlet  Month  Day    Year  \\\n",
       "0  Asia   India              NaN  Bombay (Mumbai)    1.0  1.0  2005.0   \n",
       "1  Asia   India              NaN  Bombay (Mumbai)    1.0  2.0  2005.0   \n",
       "2  Asia   India              NaN  Bombay (Mumbai)    1.0  3.0  2005.0   \n",
       "3  Asia   India              NaN  Bombay (Mumbai)    1.0  4.0  2005.0   \n",
       "4  Asia   India              NaN  Bombay (Mumbai)    1.0  5.0  2005.0   \n",
       "\n",
       "   Total_Sales  \n",
       "0         72.2  \n",
       "1         72.7  \n",
       "2         74.3  \n",
       "3         78.9  \n",
       "4         81.5  "
      ]
     },
     "execution_count": 4,
     "metadata": {},
     "output_type": "execute_result"
    }
   ],
   "source": [
    "data=pd.read_excel(\"Sales_Forecasting.xlsx\")\n",
    "data.head()"
   ]
  },
  {
   "cell_type": "code",
   "execution_count": 5,
   "metadata": {},
   "outputs": [
    {
     "name": "stdout",
     "output_type": "stream",
     "text": [
      "<class 'pandas.core.frame.DataFrame'>\n",
      "RangeIndex: 17536 entries, 0 to 17535\n",
      "Data columns (total 8 columns):\n",
      " #   Column           Non-Null Count  Dtype  \n",
      "---  ------           --------------  -----  \n",
      " 0   HQ               17536 non-null  object \n",
      " 1   Country          17536 non-null  object \n",
      " 2   State_of_outlet  0 non-null      float64\n",
      " 3   City_of_outlet   17536 non-null  object \n",
      " 4   Month            17536 non-null  float64\n",
      " 5   Day              17536 non-null  float64\n",
      " 6   Year             17536 non-null  float64\n",
      " 7   Total_Sales      17536 non-null  float64\n",
      "dtypes: float64(5), object(3)\n",
      "memory usage: 1.1+ MB\n"
     ]
    }
   ],
   "source": [
    "data.info()"
   ]
  },
  {
   "cell_type": "code",
   "execution_count": 6,
   "metadata": {},
   "outputs": [
    {
     "data": {
      "text/html": [
       "<div>\n",
       "<style scoped>\n",
       "    .dataframe tbody tr th:only-of-type {\n",
       "        vertical-align: middle;\n",
       "    }\n",
       "\n",
       "    .dataframe tbody tr th {\n",
       "        vertical-align: top;\n",
       "    }\n",
       "\n",
       "    .dataframe thead th {\n",
       "        text-align: right;\n",
       "    }\n",
       "</style>\n",
       "<table border=\"1\" class=\"dataframe\">\n",
       "  <thead>\n",
       "    <tr style=\"text-align: right;\">\n",
       "      <th></th>\n",
       "      <th>State_of_outlet</th>\n",
       "      <th>Month</th>\n",
       "      <th>Day</th>\n",
       "      <th>Year</th>\n",
       "      <th>Total_Sales</th>\n",
       "    </tr>\n",
       "  </thead>\n",
       "  <tbody>\n",
       "    <tr>\n",
       "      <th>count</th>\n",
       "      <td>0.0</td>\n",
       "      <td>17536.000000</td>\n",
       "      <td>17536.000000</td>\n",
       "      <td>17536.000000</td>\n",
       "      <td>17536.000000</td>\n",
       "    </tr>\n",
       "    <tr>\n",
       "      <th>mean</th>\n",
       "      <td>NaN</td>\n",
       "      <td>6.524179</td>\n",
       "      <td>15.732892</td>\n",
       "      <td>2010.502053</td>\n",
       "      <td>80.117963</td>\n",
       "    </tr>\n",
       "    <tr>\n",
       "      <th>std</th>\n",
       "      <td>NaN</td>\n",
       "      <td>3.449400</td>\n",
       "      <td>8.801978</td>\n",
       "      <td>3.452525</td>\n",
       "      <td>13.315486</td>\n",
       "    </tr>\n",
       "    <tr>\n",
       "      <th>min</th>\n",
       "      <td>NaN</td>\n",
       "      <td>1.000000</td>\n",
       "      <td>1.000000</td>\n",
       "      <td>2005.000000</td>\n",
       "      <td>-99.000000</td>\n",
       "    </tr>\n",
       "    <tr>\n",
       "      <th>25%</th>\n",
       "      <td>NaN</td>\n",
       "      <td>4.000000</td>\n",
       "      <td>8.000000</td>\n",
       "      <td>2008.000000</td>\n",
       "      <td>77.500000</td>\n",
       "    </tr>\n",
       "    <tr>\n",
       "      <th>50%</th>\n",
       "      <td>NaN</td>\n",
       "      <td>7.000000</td>\n",
       "      <td>16.000000</td>\n",
       "      <td>2011.000000</td>\n",
       "      <td>82.600000</td>\n",
       "    </tr>\n",
       "    <tr>\n",
       "      <th>75%</th>\n",
       "      <td>NaN</td>\n",
       "      <td>10.000000</td>\n",
       "      <td>23.000000</td>\n",
       "      <td>2014.000000</td>\n",
       "      <td>86.100000</td>\n",
       "    </tr>\n",
       "    <tr>\n",
       "      <th>max</th>\n",
       "      <td>NaN</td>\n",
       "      <td>12.000000</td>\n",
       "      <td>31.000000</td>\n",
       "      <td>2016.000000</td>\n",
       "      <td>102.500000</td>\n",
       "    </tr>\n",
       "  </tbody>\n",
       "</table>\n",
       "</div>"
      ],
      "text/plain": [
       "       State_of_outlet         Month           Day          Year   Total_Sales\n",
       "count              0.0  17536.000000  17536.000000  17536.000000  17536.000000\n",
       "mean               NaN      6.524179     15.732892   2010.502053     80.117963\n",
       "std                NaN      3.449400      8.801978      3.452525     13.315486\n",
       "min                NaN      1.000000      1.000000   2005.000000    -99.000000\n",
       "25%                NaN      4.000000      8.000000   2008.000000     77.500000\n",
       "50%                NaN      7.000000     16.000000   2011.000000     82.600000\n",
       "75%                NaN     10.000000     23.000000   2014.000000     86.100000\n",
       "max                NaN     12.000000     31.000000   2016.000000    102.500000"
      ]
     },
     "execution_count": 6,
     "metadata": {},
     "output_type": "execute_result"
    }
   ],
   "source": [
    "data.describe()"
   ]
  },
  {
   "cell_type": "code",
   "execution_count": 7,
   "metadata": {},
   "outputs": [],
   "source": [
    "# converting month, day, year in right Date format\n",
    "from datetime import datetime\n",
    "data['Date'] = data.apply(lambda row: datetime.strptime(f\"{int(row.Year)}-{int(row.Month)}-{int(row.Day)}\", '%Y-%m-%d'), axis=1)"
   ]
  },
  {
   "cell_type": "markdown",
   "metadata": {},
   "source": [
    "Let us take a look at how many years of date is present in the datset"
   ]
  },
  {
   "cell_type": "code",
   "execution_count": 8,
   "metadata": {},
   "outputs": [
    {
     "data": {
      "text/plain": [
       "(Timestamp('2005-01-01 00:00:00'), Timestamp('2016-12-31 00:00:00'))"
      ]
     },
     "execution_count": 8,
     "metadata": {},
     "output_type": "execute_result"
    }
   ],
   "source": [
    "data['Date'].min(), data['Date'].max()"
   ]
  },
  {
   "cell_type": "markdown",
   "metadata": {},
   "source": [
    "## Data Preprocessing"
   ]
  },
  {
   "cell_type": "markdown",
   "metadata": {},
   "source": [
    "### Dropping the columns"
   ]
  },
  {
   "cell_type": "markdown",
   "metadata": {},
   "source": [
    "Let us remove the columns which are not necessary for analysis and sorting the sales values using date"
   ]
  },
  {
   "cell_type": "code",
   "execution_count": 9,
   "metadata": {},
   "outputs": [
    {
     "data": {
      "text/plain": [
       "(17536, 9)"
      ]
     },
     "execution_count": 9,
     "metadata": {},
     "output_type": "execute_result"
    }
   ],
   "source": [
    "data.shape"
   ]
  },
  {
   "cell_type": "code",
   "execution_count": 10,
   "metadata": {},
   "outputs": [],
   "source": [
    "cols = ['Month','Day','Year','City_of_outlet','State_of_outlet','Country','HQ']\n",
    "data.drop(cols, axis=1, inplace=True)\n",
    "data = data.sort_values('Date')"
   ]
  },
  {
   "cell_type": "code",
   "execution_count": 11,
   "metadata": {},
   "outputs": [
    {
     "data": {
      "text/html": [
       "<div>\n",
       "<style scoped>\n",
       "    .dataframe tbody tr th:only-of-type {\n",
       "        vertical-align: middle;\n",
       "    }\n",
       "\n",
       "    .dataframe tbody tr th {\n",
       "        vertical-align: top;\n",
       "    }\n",
       "\n",
       "    .dataframe thead th {\n",
       "        text-align: right;\n",
       "    }\n",
       "</style>\n",
       "<table border=\"1\" class=\"dataframe\">\n",
       "  <thead>\n",
       "    <tr style=\"text-align: right;\">\n",
       "      <th></th>\n",
       "      <th>Total_Sales</th>\n",
       "      <th>Date</th>\n",
       "    </tr>\n",
       "  </thead>\n",
       "  <tbody>\n",
       "    <tr>\n",
       "      <th>0</th>\n",
       "      <td>72.2</td>\n",
       "      <td>2005-01-01</td>\n",
       "    </tr>\n",
       "    <tr>\n",
       "      <th>730</th>\n",
       "      <td>75.8</td>\n",
       "      <td>2005-01-01</td>\n",
       "    </tr>\n",
       "    <tr>\n",
       "      <th>1095</th>\n",
       "      <td>61.0</td>\n",
       "      <td>2005-01-01</td>\n",
       "    </tr>\n",
       "    <tr>\n",
       "      <th>365</th>\n",
       "      <td>66.5</td>\n",
       "      <td>2005-01-01</td>\n",
       "    </tr>\n",
       "    <tr>\n",
       "      <th>1</th>\n",
       "      <td>72.7</td>\n",
       "      <td>2005-01-02</td>\n",
       "    </tr>\n",
       "  </tbody>\n",
       "</table>\n",
       "</div>"
      ],
      "text/plain": [
       "      Total_Sales       Date\n",
       "0            72.2 2005-01-01\n",
       "730          75.8 2005-01-01\n",
       "1095         61.0 2005-01-01\n",
       "365          66.5 2005-01-01\n",
       "1            72.7 2005-01-02"
      ]
     },
     "execution_count": 11,
     "metadata": {},
     "output_type": "execute_result"
    }
   ],
   "source": [
    "data.head()"
   ]
  },
  {
   "cell_type": "markdown",
   "metadata": {},
   "source": [
    "### Checking or null values"
   ]
  },
  {
   "cell_type": "markdown",
   "metadata": {},
   "source": [
    "Let us check for null values in the dataset "
   ]
  },
  {
   "cell_type": "code",
   "execution_count": 12,
   "metadata": {},
   "outputs": [
    {
     "data": {
      "text/plain": [
       "Total_Sales    0\n",
       "Date           0\n",
       "dtype: int64"
      ]
     },
     "execution_count": 12,
     "metadata": {},
     "output_type": "execute_result"
    }
   ],
   "source": [
    "data.isnull().sum()"
   ]
  },
  {
   "cell_type": "markdown",
   "metadata": {},
   "source": [
    "We can see that there are no null values in the datset"
   ]
  },
  {
   "cell_type": "code",
   "execution_count": 13,
   "metadata": {},
   "outputs": [],
   "source": [
    "# groupby the date value to get the sales sum of each order date\n",
    "data = data.groupby('Date')['Total_Sales'].sum().reset_index()"
   ]
  },
  {
   "cell_type": "code",
   "execution_count": 14,
   "metadata": {},
   "outputs": [
    {
     "data": {
      "text/html": [
       "<div>\n",
       "<style scoped>\n",
       "    .dataframe tbody tr th:only-of-type {\n",
       "        vertical-align: middle;\n",
       "    }\n",
       "\n",
       "    .dataframe tbody tr th {\n",
       "        vertical-align: top;\n",
       "    }\n",
       "\n",
       "    .dataframe thead th {\n",
       "        text-align: right;\n",
       "    }\n",
       "</style>\n",
       "<table border=\"1\" class=\"dataframe\">\n",
       "  <thead>\n",
       "    <tr style=\"text-align: right;\">\n",
       "      <th></th>\n",
       "      <th>Date</th>\n",
       "      <th>Total_Sales</th>\n",
       "    </tr>\n",
       "  </thead>\n",
       "  <tbody>\n",
       "    <tr>\n",
       "      <th>0</th>\n",
       "      <td>2005-01-01</td>\n",
       "      <td>275.5</td>\n",
       "    </tr>\n",
       "    <tr>\n",
       "      <th>1</th>\n",
       "      <td>2005-01-02</td>\n",
       "      <td>275.5</td>\n",
       "    </tr>\n",
       "    <tr>\n",
       "      <th>2</th>\n",
       "      <td>2005-01-03</td>\n",
       "      <td>278.6</td>\n",
       "    </tr>\n",
       "    <tr>\n",
       "      <th>3</th>\n",
       "      <td>2005-01-04</td>\n",
       "      <td>279.3</td>\n",
       "    </tr>\n",
       "    <tr>\n",
       "      <th>4</th>\n",
       "      <td>2005-01-05</td>\n",
       "      <td>281.4</td>\n",
       "    </tr>\n",
       "  </tbody>\n",
       "</table>\n",
       "</div>"
      ],
      "text/plain": [
       "        Date  Total_Sales\n",
       "0 2005-01-01        275.5\n",
       "1 2005-01-02        275.5\n",
       "2 2005-01-03        278.6\n",
       "3 2005-01-04        279.3\n",
       "4 2005-01-05        281.4"
      ]
     },
     "execution_count": 14,
     "metadata": {},
     "output_type": "execute_result"
    }
   ],
   "source": [
    "data.head()"
   ]
  },
  {
   "cell_type": "code",
   "execution_count": 15,
   "metadata": {},
   "outputs": [],
   "source": [
    "sale = np.array(data['Total_Sales'])"
   ]
  },
  {
   "cell_type": "code",
   "execution_count": 16,
   "metadata": {
    "scrolled": false
   },
   "outputs": [
    {
     "data": {
      "image/png": "[encoded data removed]",
      "text/plain": [
       "<Figure size 864x432 with 1 Axes>"
      ]
     },
     "metadata": {
      "needs_background": "light"
     },
     "output_type": "display_data"
    }
   ],
   "source": [
    "# Plotting Given Data\n",
    "plt.figure(figsize=(12,6))\n",
    "plt.plot(sale)\n",
    "plt.title('SALES FROM 2005 TO 2016')\n",
    "plt.xlabel('Days')\n",
    "plt.ylabel('Sales')\n",
    "plt.show()"
   ]
  },
  {
   "cell_type": "code",
   "execution_count": 17,
   "metadata": {},
   "outputs": [],
   "source": [
    "training_size=int(len(sale)*0.80)\n",
    "test_size=len(sale)-training_size\n",
    "train_data,test_data=sale[0:training_size],sale[training_size:]"
   ]
  },
  {
   "cell_type": "code",
   "execution_count": 18,
   "metadata": {},
   "outputs": [],
   "source": [
    "# preparing independent and dependent features\n",
    "def prepare_data(timeseries_data, n_features):\n",
    "\tX, y =[],[]\n",
    "\tfor i in range(len(timeseries_data)):\n",
    "\t\t# find the end of this pattern\n",
    "\t\tend_ix = i + n_features\n",
    "\t\t# check if we are beyond the sequence\n",
    "\t\tif end_ix > len(timeseries_data)-1:\n",
    "\t\t\tbreak\n",
    "\t\t# gather input and output parts of the pattern\n",
    "\t\tseq_x, seq_y = timeseries_data[i:end_ix], timeseries_data[end_ix]\n",
    "\t\tX.append(seq_x)\n",
    "\t\ty.append(seq_y)\n",
    "\treturn np.array(X), np.array(y)"
   ]
  },
  {
   "cell_type": "code",
   "execution_count": 19,
   "metadata": {},
   "outputs": [],
   "source": [
    "xtrain, ytrain = prepare_data(train_data, 10)\n",
    "xtest, ytest = prepare_data(test_data, 10)"
   ]
  },
  {
   "cell_type": "code",
   "execution_count": 20,
   "metadata": {},
   "outputs": [
    {
     "data": {
      "text/plain": [
       "((3496, 10), (867, 10))"
      ]
     },
     "execution_count": 20,
     "metadata": {},
     "output_type": "execute_result"
    }
   ],
   "source": [
    "xtrain.shape, xtest.shape"
   ]
  },
  {
   "cell_type": "code",
   "execution_count": 21,
   "metadata": {},
   "outputs": [],
   "source": [
    "# reshape from [samples, timesteps] into [samples, timesteps, features]\n",
    "xtrain = xtrain.reshape((xtrain.shape[0], xtrain.shape[1], 1))\n",
    "xtest = xtest.reshape((xtest.shape[0], xtest.shape[1], 1))"
   ]
  },
  {
   "cell_type": "code",
   "execution_count": 22,
   "metadata": {},
   "outputs": [
    {
     "data": {
      "text/plain": [
       "((3496, 10, 1), (867, 10, 1))"
      ]
     },
     "execution_count": 22,
     "metadata": {},
     "output_type": "execute_result"
    }
   ],
   "source": [
    "xtrain.shape, xtest.shape"
   ]
  },
  {
   "cell_type": "code",
   "execution_count": 23,
   "metadata": {},
   "outputs": [],
   "source": [
    "model=Sequential()\n",
    "model.add(LSTM(50,activation='relu',return_sequences=True,input_shape=(10,1)))\n",
    "model.add(LSTM(50,activation='relu'))\n",
    "model.add(Dense(1))\n",
    "model.compile(loss='mse',optimizer='adam')"
   ]
  },
  {
   "cell_type": "code",
   "execution_count": 24,
   "metadata": {},
   "outputs": [
    {
     "name": "stdout",
     "output_type": "stream",
     "text": [
      "Model: \"sequential\"\n",
      "_________________________________________________________________\n",
      " Layer (type)                Output Shape              Param #   \n",
      "=================================================================\n",
      " lstm (LSTM)                 (None, 10, 50)            10400     \n",
      "                                                                 \n",
      " lstm_1 (LSTM)               (None, 50)                20200     \n",
      "                                                                 \n",
      " dense (Dense)               (None, 1)                 51        \n",
      "                                                                 \n",
      "=================================================================\n",
      "Total params: 30,651\n",
      "Trainable params: 30,651\n",
      "Non-trainable params: 0\n",
      "_________________________________________________________________\n"
     ]
    }
   ],
   "source": [
    "model.summary()"
   ]
  },
  {
   "cell_type": "code",
   "execution_count": 25,
   "metadata": {},
   "outputs": [
    {
     "name": "stdout",
     "output_type": "stream",
     "text": [
      "Epoch 1/150\n",
      "55/55 [==============================] - 9s 39ms/step - loss: 37530.1055 - val_loss: 3377.4456\n",
      "Epoch 2/150\n",
      "55/55 [==============================] - 1s 24ms/step - loss: 1615.9952 - val_loss: 2705.6182\n",
      "Epoch 3/150\n",
      "55/55 [==============================] - 1s 25ms/step - loss: 1465.2656 - val_loss: 2477.4712\n",
      "Epoch 4/150\n",
      "55/55 [==============================] - 1s 23ms/step - loss: 1332.9474 - val_loss: 2296.4414\n",
      "Epoch 5/150\n",
      "55/55 [==============================] - 1s 24ms/step - loss: 1020.1796 - val_loss: 2271.1724\n",
      "Epoch 6/150\n",
      "55/55 [==============================] - 1s 24ms/step - loss: 1138.7186 - val_loss: 2487.7537\n",
      "Epoch 7/150\n",
      "55/55 [==============================] - 1s 23ms/step - loss: 1987.2333 - val_loss: 2461.7375\n",
      "Epoch 8/150\n",
      "55/55 [==============================] - 1s 24ms/step - loss: 1093.6840 - val_loss: 2180.0447\n",
      "Epoch 9/150\n",
      "55/55 [==============================] - 1s 24ms/step - loss: 1025.9686 - val_loss: 2166.6965\n",
      "Epoch 10/150\n",
      "55/55 [==============================] - 1s 26ms/step - loss: 984.4834 - val_loss: 2305.2090\n",
      "Epoch 11/150\n",
      "55/55 [==============================] - 1s 25ms/step - loss: 1002.7926 - val_loss: 2067.0137\n",
      "Epoch 12/150\n",
      "55/55 [==============================] - 1s 26ms/step - loss: 955.3140 - val_loss: 2230.8406\n",
      "Epoch 13/150\n",
      "55/55 [==============================] - 1s 24ms/step - loss: 1000.2538 - val_loss: 2089.4480\n",
      "Epoch 14/150\n",
      "55/55 [==============================] - 1s 25ms/step - loss: 961.9442 - val_loss: 2110.0557\n",
      "Epoch 15/150\n",
      "55/55 [==============================] - 1s 25ms/step - loss: 954.1387 - val_loss: 2068.1570\n",
      "Epoch 16/150\n",
      "55/55 [==============================] - 1s 25ms/step - loss: 962.6252 - val_loss: 2220.6826\n",
      "Epoch 17/150\n",
      "55/55 [==============================] - 1s 23ms/step - loss: 973.4859 - val_loss: 2164.3933\n",
      "Epoch 18/150\n",
      "55/55 [==============================] - 1s 24ms/step - loss: 972.6753 - val_loss: 2202.0637\n",
      "Epoch 19/150\n",
      "55/55 [==============================] - 2s 28ms/step - loss: 954.3362 - val_loss: 2082.3362\n",
      "Epoch 20/150\n",
      "55/55 [==============================] - 1s 24ms/step - loss: 961.5758 - val_loss: 2149.6335\n",
      "Epoch 21/150\n",
      "55/55 [==============================] - 1s 26ms/step - loss: 943.9799 - val_loss: 2127.5046\n",
      "Epoch 22/150\n",
      "55/55 [==============================] - 1s 24ms/step - loss: 945.3000 - val_loss: 2071.8582\n",
      "Epoch 23/150\n",
      "55/55 [==============================] - 1s 25ms/step - loss: 941.5185 - val_loss: 2175.5398\n",
      "Epoch 24/150\n",
      "55/55 [==============================] - 1s 25ms/step - loss: 972.0414 - val_loss: 2329.8477\n",
      "Epoch 25/150\n",
      "55/55 [==============================] - 1s 24ms/step - loss: 962.3738 - val_loss: 2252.4827\n",
      "Epoch 26/150\n",
      "55/55 [==============================] - 2s 27ms/step - loss: 962.1170 - val_loss: 2304.6707\n",
      "Epoch 27/150\n",
      "55/55 [==============================] - 1s 26ms/step - loss: 942.3380 - val_loss: 19415.2480\n",
      "Epoch 28/150\n",
      "55/55 [==============================] - 2s 28ms/step - loss: 967.2710 - val_loss: 33745.5859\n",
      "Epoch 29/150\n",
      "55/55 [==============================] - 2s 30ms/step - loss: 945.1313 - val_loss: 12660.3975\n",
      "Epoch 30/150\n",
      "55/55 [==============================] - 2s 34ms/step - loss: 928.2732 - val_loss: 5814.8091\n",
      "Epoch 31/150\n",
      "55/55 [==============================] - 2s 30ms/step - loss: 946.3611 - val_loss: 3562.3992\n",
      "Epoch 32/150\n",
      "55/55 [==============================] - 2s 29ms/step - loss: 908.0983 - val_loss: 6748.2227\n",
      "Epoch 33/150\n",
      "55/55 [==============================] - 2s 28ms/step - loss: 910.7982 - val_loss: 2595.5479\n",
      "Epoch 34/150\n",
      "55/55 [==============================] - 2s 28ms/step - loss: 923.4366 - val_loss: 3559.7546\n",
      "Epoch 35/150\n",
      "55/55 [==============================] - 1s 26ms/step - loss: 911.1701 - val_loss: 2719.6453\n",
      "Epoch 36/150\n",
      "55/55 [==============================] - 2s 29ms/step - loss: 904.3120 - val_loss: 2297.7559\n",
      "Epoch 37/150\n",
      "55/55 [==============================] - 1s 27ms/step - loss: 910.6882 - val_loss: 2938.0728\n",
      "Epoch 38/150\n",
      "55/55 [==============================] - 1s 26ms/step - loss: 944.2169 - val_loss: 2265.3293\n",
      "Epoch 39/150\n",
      "55/55 [==============================] - 1s 26ms/step - loss: 949.2346 - val_loss: 2852.5269\n",
      "Epoch 40/150\n",
      "55/55 [==============================] - 1s 25ms/step - loss: 1064.2854 - val_loss: 2928.2668\n",
      "Epoch 41/150\n",
      "55/55 [==============================] - 1s 25ms/step - loss: 949.5438 - val_loss: 2843.4233\n",
      "Epoch 42/150\n",
      "55/55 [==============================] - 1s 25ms/step - loss: 933.8713 - val_loss: 2545.8054\n",
      "Epoch 43/150\n",
      "55/55 [==============================] - 1s 25ms/step - loss: 972.7816 - val_loss: 2230.8828\n",
      "Epoch 44/150\n",
      "55/55 [==============================] - 1s 25ms/step - loss: 974.1485 - val_loss: 2651.0334\n",
      "Epoch 45/150\n",
      "55/55 [==============================] - 1s 25ms/step - loss: 924.4203 - val_loss: 12386.1777\n",
      "Epoch 46/150\n",
      "55/55 [==============================] - 1s 25ms/step - loss: 12969.6826 - val_loss: 2359.3325\n",
      "Epoch 47/150\n",
      "55/55 [==============================] - 2s 27ms/step - loss: 1064.0255 - val_loss: 2256.0432\n",
      "Epoch 48/150\n",
      "55/55 [==============================] - 1s 26ms/step - loss: 1092.3490 - val_loss: 2282.5002\n",
      "Epoch 49/150\n",
      "55/55 [==============================] - 1s 27ms/step - loss: 1027.7831 - val_loss: 2325.8857\n",
      "Epoch 50/150\n",
      "55/55 [==============================] - 1s 26ms/step - loss: 1405.5542 - val_loss: 2479.3179\n",
      "Epoch 51/150\n",
      "55/55 [==============================] - 1s 25ms/step - loss: 1211.6337 - val_loss: 2832.6423\n",
      "Epoch 52/150\n",
      "55/55 [==============================] - 1s 25ms/step - loss: 6657.0405 - val_loss: 2889.5015\n",
      "Epoch 53/150\n",
      "55/55 [==============================] - 1s 24ms/step - loss: 1317.4686 - val_loss: 2211.4941\n",
      "Epoch 54/150\n",
      "55/55 [==============================] - 1s 23ms/step - loss: 1087.6344 - val_loss: 2447.9597\n",
      "Epoch 55/150\n",
      "55/55 [==============================] - 1s 24ms/step - loss: 1016.5895 - val_loss: 2497.0642\n",
      "Epoch 56/150\n",
      "55/55 [==============================] - 1s 24ms/step - loss: 1043.9081 - val_loss: 2192.5186\n",
      "Epoch 57/150\n",
      "55/55 [==============================] - 1s 24ms/step - loss: 1008.3936 - val_loss: 2204.4929\n",
      "Epoch 58/150\n",
      "55/55 [==============================] - 1s 24ms/step - loss: 1001.7064 - val_loss: 2312.5703\n",
      "Epoch 59/150\n",
      "55/55 [==============================] - 1s 27ms/step - loss: 1042.7140 - val_loss: 2455.4836\n",
      "Epoch 60/150\n",
      "55/55 [==============================] - 2s 32ms/step - loss: 987.8558 - val_loss: 2273.0034\n",
      "Epoch 61/150\n",
      "55/55 [==============================] - 2s 29ms/step - loss: 960.5275 - val_loss: 2321.8538\n",
      "Epoch 62/150\n",
      "55/55 [==============================] - 1s 25ms/step - loss: 970.7446 - val_loss: 2405.4131\n",
      "Epoch 63/150\n",
      "55/55 [==============================] - 1s 27ms/step - loss: 1033.9438 - val_loss: 2182.4382\n",
      "Epoch 64/150\n",
      "55/55 [==============================] - 1s 25ms/step - loss: 970.2185 - val_loss: 2166.5508\n",
      "Epoch 65/150\n",
      "55/55 [==============================] - 2s 29ms/step - loss: 943.7533 - val_loss: 2186.6743\n",
      "Epoch 66/150\n",
      "55/55 [==============================] - 1s 25ms/step - loss: 934.1958 - val_loss: 2230.0444\n",
      "Epoch 67/150\n",
      "55/55 [==============================] - 1s 25ms/step - loss: 965.0729 - val_loss: 2172.9731\n",
      "Epoch 68/150\n",
      "55/55 [==============================] - 1s 24ms/step - loss: 953.5146 - val_loss: 2118.6213\n",
      "Epoch 69/150\n",
      "55/55 [==============================] - 1s 25ms/step - loss: 950.3614 - val_loss: 2169.0005\n",
      "Epoch 70/150\n",
      "55/55 [==============================] - 1s 26ms/step - loss: 944.6360 - val_loss: 2148.3210\n",
      "Epoch 71/150\n",
      "55/55 [==============================] - 2s 35ms/step - loss: 933.1791 - val_loss: 2193.3865\n",
      "Epoch 72/150\n",
      "55/55 [==============================] - 2s 36ms/step - loss: 1057.1399 - val_loss: 2189.4771\n",
      "Epoch 73/150\n",
      "55/55 [==============================] - 2s 28ms/step - loss: 1033.0184 - val_loss: 2334.8804\n",
      "Epoch 74/150\n",
      "55/55 [==============================] - 2s 27ms/step - loss: 999.5064 - val_loss: 2174.4238\n",
      "Epoch 75/150\n",
      "55/55 [==============================] - 2s 28ms/step - loss: 940.8896 - val_loss: 2223.5051\n",
      "Epoch 76/150\n",
      "55/55 [==============================] - 1s 27ms/step - loss: 945.3494 - val_loss: 2428.0010\n",
      "Epoch 77/150\n",
      "55/55 [==============================] - 2s 28ms/step - loss: 961.4805 - val_loss: 2154.6526\n",
      "Epoch 78/150\n"
     ]
    },
    {
     "name": "stdout",
     "output_type": "stream",
     "text": [
      "55/55 [==============================] - 1s 26ms/step - loss: 949.0560 - val_loss: 2122.7415\n",
      "Epoch 79/150\n",
      "55/55 [==============================] - 2s 27ms/step - loss: 924.8807 - val_loss: 2136.3970\n",
      "Epoch 80/150\n",
      "55/55 [==============================] - 1s 26ms/step - loss: 940.9272 - val_loss: 2112.2749\n",
      "Epoch 81/150\n",
      "55/55 [==============================] - 1s 24ms/step - loss: 983.7032 - val_loss: 2378.8342\n",
      "Epoch 82/150\n",
      "55/55 [==============================] - 1s 24ms/step - loss: 1029.5662 - val_loss: 2163.2534\n",
      "Epoch 83/150\n",
      "55/55 [==============================] - 1s 25ms/step - loss: 979.8453 - val_loss: 2071.1116\n",
      "Epoch 84/150\n",
      "55/55 [==============================] - 1s 24ms/step - loss: 963.4150 - val_loss: 2042.7306\n",
      "Epoch 85/150\n",
      "55/55 [==============================] - 1s 24ms/step - loss: 955.2285 - val_loss: 2098.6670\n",
      "Epoch 86/150\n",
      "55/55 [==============================] - 1s 24ms/step - loss: 939.6217 - val_loss: 2106.8286\n",
      "Epoch 87/150\n",
      "55/55 [==============================] - 1s 23ms/step - loss: 944.2888 - val_loss: 2040.2119\n",
      "Epoch 88/150\n",
      "55/55 [==============================] - 1s 26ms/step - loss: 946.0666 - val_loss: 2134.3796\n",
      "Epoch 89/150\n",
      "55/55 [==============================] - 1s 24ms/step - loss: 932.7033 - val_loss: 2195.7456\n",
      "Epoch 90/150\n",
      "55/55 [==============================] - 1s 24ms/step - loss: 938.4672 - val_loss: 2074.6665\n",
      "Epoch 91/150\n",
      "55/55 [==============================] - 1s 24ms/step - loss: 936.9521 - val_loss: 2107.4478\n",
      "Epoch 92/150\n",
      "55/55 [==============================] - 2s 29ms/step - loss: 926.5425 - val_loss: 2135.2173\n",
      "Epoch 93/150\n",
      "55/55 [==============================] - 1s 26ms/step - loss: 927.7427 - val_loss: 2127.2844\n",
      "Epoch 94/150\n",
      "55/55 [==============================] - 1s 26ms/step - loss: 926.0928 - val_loss: 2152.8079\n",
      "Epoch 95/150\n",
      "55/55 [==============================] - 1s 25ms/step - loss: 924.8049 - val_loss: 2141.2510\n",
      "Epoch 96/150\n",
      "55/55 [==============================] - 1s 27ms/step - loss: 949.4691 - val_loss: 2094.4695\n",
      "Epoch 97/150\n",
      "55/55 [==============================] - 1s 25ms/step - loss: 919.2401 - val_loss: 2171.9846\n",
      "Epoch 98/150\n",
      "55/55 [==============================] - 1s 24ms/step - loss: 927.9564 - val_loss: 2176.8804\n",
      "Epoch 99/150\n",
      "55/55 [==============================] - 1s 25ms/step - loss: 915.8872 - val_loss: 2133.7000\n",
      "Epoch 100/150\n",
      "55/55 [==============================] - 1s 24ms/step - loss: 913.9948 - val_loss: 2114.2874\n",
      "Epoch 101/150\n",
      "55/55 [==============================] - 1s 25ms/step - loss: 906.6764 - val_loss: 2110.7751\n",
      "Epoch 102/150\n",
      "55/55 [==============================] - 1s 26ms/step - loss: 924.2670 - val_loss: 2102.6008\n",
      "Epoch 103/150\n",
      "55/55 [==============================] - 1s 26ms/step - loss: 913.8381 - val_loss: 2111.9897\n",
      "Epoch 104/150\n",
      "55/55 [==============================] - 1s 26ms/step - loss: 917.0042 - val_loss: 2105.3726\n",
      "Epoch 105/150\n",
      "55/55 [==============================] - 1s 24ms/step - loss: 910.5665 - val_loss: 2148.7820\n",
      "Epoch 106/150\n",
      "55/55 [==============================] - 1s 25ms/step - loss: 932.9349 - val_loss: 2086.1350\n",
      "Epoch 107/150\n",
      "55/55 [==============================] - 1s 25ms/step - loss: 931.2625 - val_loss: 2180.3450\n",
      "Epoch 108/150\n",
      "55/55 [==============================] - 1s 26ms/step - loss: 920.5080 - val_loss: 2141.9922\n",
      "Epoch 109/150\n",
      "55/55 [==============================] - 1s 25ms/step - loss: 931.7692 - val_loss: 2116.6697\n",
      "Epoch 110/150\n",
      "55/55 [==============================] - 1s 24ms/step - loss: 923.8718 - val_loss: 2136.1072\n",
      "Epoch 111/150\n",
      "55/55 [==============================] - 2s 30ms/step - loss: 921.9752 - val_loss: 2103.4712\n",
      "Epoch 112/150\n",
      "55/55 [==============================] - 2s 28ms/step - loss: 932.3116 - val_loss: 2141.4219\n",
      "Epoch 113/150\n",
      "55/55 [==============================] - 2s 31ms/step - loss: 916.0151 - val_loss: 2158.1382\n",
      "Epoch 114/150\n",
      "55/55 [==============================] - 2s 30ms/step - loss: 906.4932 - val_loss: 2159.5945\n",
      "Epoch 115/150\n",
      "55/55 [==============================] - 2s 33ms/step - loss: 915.7452 - val_loss: 2228.8643\n",
      "Epoch 116/150\n",
      "55/55 [==============================] - 2s 29ms/step - loss: 913.6884 - val_loss: 2223.4539\n",
      "Epoch 117/150\n",
      "55/55 [==============================] - 2s 28ms/step - loss: 917.0603 - val_loss: 2121.3069\n",
      "Epoch 118/150\n",
      "55/55 [==============================] - 1s 26ms/step - loss: 950.1949 - val_loss: 2232.0808\n",
      "Epoch 119/150\n",
      "55/55 [==============================] - 2s 29ms/step - loss: 960.2951 - val_loss: 2106.9265\n",
      "Epoch 120/150\n",
      "55/55 [==============================] - 1s 27ms/step - loss: 995.1901 - val_loss: 2115.8479\n",
      "Epoch 121/150\n",
      "55/55 [==============================] - 2s 28ms/step - loss: 1040.6749 - val_loss: 2256.4558\n",
      "Epoch 122/150\n",
      "55/55 [==============================] - 1s 26ms/step - loss: 1035.1549 - val_loss: 2183.5459\n",
      "Epoch 123/150\n",
      "55/55 [==============================] - 1s 24ms/step - loss: 1493.3949 - val_loss: 2142.7332\n",
      "Epoch 124/150\n",
      "55/55 [==============================] - 1s 25ms/step - loss: 1000.0342 - val_loss: 2068.5737\n",
      "Epoch 125/150\n",
      "55/55 [==============================] - 1s 25ms/step - loss: 976.1588 - val_loss: 2049.9492\n",
      "Epoch 126/150\n",
      "55/55 [==============================] - 1s 27ms/step - loss: 965.6967 - val_loss: 2114.4883\n",
      "Epoch 127/150\n",
      "55/55 [==============================] - 1s 27ms/step - loss: 973.5013 - val_loss: 2269.8748\n",
      "Epoch 128/150\n",
      "55/55 [==============================] - 1s 25ms/step - loss: 952.1928 - val_loss: 2190.0210\n",
      "Epoch 129/150\n",
      "55/55 [==============================] - 2s 28ms/step - loss: 979.8078 - val_loss: 2162.3203\n",
      "Epoch 130/150\n",
      "55/55 [==============================] - 1s 25ms/step - loss: 1032.8531 - val_loss: 2091.9880\n",
      "Epoch 131/150\n",
      "55/55 [==============================] - 1s 25ms/step - loss: 988.1232 - val_loss: 2395.2998\n",
      "Epoch 132/150\n",
      "55/55 [==============================] - 1s 26ms/step - loss: 936.2833 - val_loss: 2142.1089\n",
      "Epoch 133/150\n",
      "55/55 [==============================] - 1s 26ms/step - loss: 940.2394 - val_loss: 2103.5105\n",
      "Epoch 134/150\n",
      "55/55 [==============================] - 1s 26ms/step - loss: 928.8967 - val_loss: 2090.1611\n",
      "Epoch 135/150\n",
      "55/55 [==============================] - 1s 27ms/step - loss: 944.2637 - val_loss: 2213.8491\n",
      "Epoch 136/150\n",
      "55/55 [==============================] - 1s 25ms/step - loss: 933.0298 - val_loss: 2115.4106\n",
      "Epoch 137/150\n",
      "55/55 [==============================] - 1s 24ms/step - loss: 933.6655 - val_loss: 2045.5690\n",
      "Epoch 138/150\n",
      "55/55 [==============================] - 1s 24ms/step - loss: 914.4194 - val_loss: 2323.4734\n",
      "Epoch 139/150\n",
      "55/55 [==============================] - 1s 25ms/step - loss: 914.9786 - val_loss: 2032.3894\n",
      "Epoch 140/150\n",
      "55/55 [==============================] - 1s 24ms/step - loss: 948.9067 - val_loss: 1955.6665\n",
      "Epoch 141/150\n",
      "55/55 [==============================] - 1s 25ms/step - loss: 928.9293 - val_loss: 1945.2080\n",
      "Epoch 142/150\n",
      "55/55 [==============================] - 1s 25ms/step - loss: 901.4130 - val_loss: 1996.0717\n",
      "Epoch 143/150\n",
      "55/55 [==============================] - 1s 27ms/step - loss: 903.7797 - val_loss: 2042.5144\n",
      "Epoch 144/150\n",
      "55/55 [==============================] - 1s 26ms/step - loss: 901.4529 - val_loss: 2057.8691\n",
      "Epoch 145/150\n",
      "55/55 [==============================] - 1s 25ms/step - loss: 906.8035 - val_loss: 2035.1180\n",
      "Epoch 146/150\n",
      "55/55 [==============================] - 1s 25ms/step - loss: 897.6951 - val_loss: 1941.1372\n",
      "Epoch 147/150\n",
      "55/55 [==============================] - 1s 25ms/step - loss: 896.1064 - val_loss: 2109.8364\n",
      "Epoch 148/150\n",
      "55/55 [==============================] - 1s 26ms/step - loss: 896.2032 - val_loss: 2031.0496\n",
      "Epoch 149/150\n",
      "55/55 [==============================] - 1s 27ms/step - loss: 901.6096 - val_loss: 1988.3793\n",
      "Epoch 150/150\n",
      "55/55 [==============================] - 1s 27ms/step - loss: 911.0477 - val_loss: 2015.5453\n"
     ]
    },
    {
     "data": {
      "text/plain": [
       "<keras.callbacks.History at 0x171554661f0>"
      ]
     },
     "execution_count": 25,
     "metadata": {},
     "output_type": "execute_result"
    }
   ],
   "source": [
    "model.fit(xtrain,ytrain,validation_data=(xtest,ytest),epochs=150,batch_size=64,verbose=1)"
   ]
  },
  {
   "cell_type": "code",
   "execution_count": null,
   "metadata": {},
   "outputs": [],
   "source": [
    "# Testing the model"
   ]
  },
  {
   "cell_type": "code",
   "execution_count": 26,
   "metadata": {},
   "outputs": [
    {
     "data": {
      "text/plain": [
       "[[275, 281, 279, 287, 271, 281, 288, 255, 278, 298]]"
      ]
     },
     "execution_count": 26,
     "metadata": {},
     "output_type": "execute_result"
    }
   ],
   "source": [
    "a=[[275,281,279,287,271,281,288,255,278,298]]\n",
    "a"
   ]
  },
  {
   "cell_type": "code",
   "execution_count": 27,
   "metadata": {},
   "outputs": [
    {
     "data": {
      "text/plain": [
       "array([[281.36813]], dtype=float32)"
      ]
     },
     "execution_count": 27,
     "metadata": {},
     "output_type": "execute_result"
    }
   ],
   "source": [
    "model.predict(a)"
   ]
  },
  {
   "cell_type": "code",
   "execution_count": 28,
   "metadata": {},
   "outputs": [],
   "source": [
    "model.save('forcast_sales.h5')"
   ]
  },
  {
   "cell_type": "code",
   "execution_count": null,
   "metadata": {},
   "outputs": [],
   "source": [
    "# Predict the future 10 days"
   ]
  },
  {
   "cell_type": "code",
   "execution_count": 29,
   "metadata": {},
   "outputs": [
    {
     "data": {
      "text/plain": [
       "(1, 10)"
      ]
     },
     "execution_count": 29,
     "metadata": {},
     "output_type": "execute_result"
    }
   ],
   "source": [
    "x_input=sale[4372:4382].reshape(1,-1)\n",
    "x_input.shape"
   ]
  },
  {
   "cell_type": "code",
   "execution_count": 30,
   "metadata": {},
   "outputs": [
    {
     "data": {
      "text/plain": [
       "[array([291.2, 285.6, 285.3, 286.2, 282.3, 290. , 288.4, 283.3, 281.7,\n",
       "        282. ])]"
      ]
     },
     "execution_count": 30,
     "metadata": {},
     "output_type": "execute_result"
    }
   ],
   "source": [
    "temp_input=list(x_input)\n",
    "temp_input"
   ]
  },
  {
   "cell_type": "code",
   "execution_count": 31,
   "metadata": {},
   "outputs": [],
   "source": [
    "temp_input=temp_input[0].tolist()"
   ]
  },
  {
   "cell_type": "code",
   "execution_count": 32,
   "metadata": {},
   "outputs": [
    {
     "name": "stdout",
     "output_type": "stream",
     "text": [
      "0 day input [291.2 285.6 285.3 286.2 282.3 290.  288.4 283.3 281.7 282. ]\n",
      "0 day output [[287.1844]]\n",
      "1 day input [285.6        285.3        286.2        282.3        290.\n",
      " 288.4        283.3        281.7        282.         287.18438721]\n",
      "1 day output [[286.70837]]\n",
      "2 day input [285.3        286.2        282.3        290.         288.4\n",
      " 283.3        281.7        282.         287.18438721 286.70837402]\n",
      "2 day output [[286.7639]]\n",
      "3 day input [286.2        282.3        290.         288.4        283.3\n",
      " 281.7        282.         287.18438721 286.70837402 286.7638855 ]\n",
      "3 day output [[285.56757]]\n",
      "4 day input [282.3        290.         288.4        283.3        281.7\n",
      " 282.         287.18438721 286.70837402 286.7638855  285.56756592]\n",
      "4 day output [[286.50644]]\n",
      "5 day input [290.         288.4        283.3        281.7        282.\n",
      " 287.18438721 286.70837402 286.7638855  285.56756592 286.50643921]\n",
      "5 day output [[287.0129]]\n",
      "6 day input [288.4        283.3        281.7        282.         287.18438721\n",
      " 286.70837402 286.7638855  285.56756592 286.50643921 287.01290894]\n",
      "6 day output [[287.19647]]\n",
      "7 day input [283.3        281.7        282.         287.18438721 286.70837402\n",
      " 286.7638855  285.56756592 286.50643921 287.01290894 287.19647217]\n",
      "7 day output [[286.80093]]\n",
      "8 day input [281.7        282.         287.18438721 286.70837402 286.7638855\n",
      " 285.56756592 286.50643921 287.01290894 287.19647217 286.80093384]\n",
      "8 day output [[286.9392]]\n",
      "9 day input [282.         287.18438721 286.70837402 286.7638855  285.56756592\n",
      " 286.50643921 287.01290894 287.19647217 286.80093384 286.93920898]\n",
      "9 day output [[287.3169]]\n"
     ]
    }
   ],
   "source": [
    "# demonstrate prediction for next 10 days\n",
    "from numpy import array\n",
    "lst_output=[]\n",
    "n_steps=10\n",
    "i=0\n",
    "while(i<10):\n",
    "    \n",
    "    if(len(temp_input)>=10):\n",
    "        #print(\"temp_input\",temp_input)\n",
    "        x_input=np.array(temp_input[0:])\n",
    "        print(\"{} day input {}\".format(i,x_input))\n",
    "        x_input=np.expand_dims(x_input, axis=0)\n",
    "        #x_input=scaler.transform(x_input)\n",
    "        x_input = x_input.reshape((1, n_steps, 1))\n",
    "        yhat = model.predict(x_input, verbose=0)\n",
    "        #yhat=scaler.inverse_transform(yhat)\n",
    "        print(\"{} day output {}\".format(i,yhat))\n",
    "        temp_input.extend(yhat[0].tolist())\n",
    "        temp_input=temp_input[1:]\n",
    "        #print(temp_input)\n",
    "        lst_output.extend(yhat.tolist())\n",
    "        i=i+1\n",
    "    else:\n",
    "        print(\"Please give 10 number of inputs\")"
   ]
  },
  {
   "cell_type": "code",
   "execution_count": null,
   "metadata": {},
   "outputs": [],
   "source": []
  },
  {
   "cell_type": "code",
   "execution_count": null,
   "metadata": {},
   "outputs": [],
   "source": []
  }
 ],
 "metadata": {
  "kernelspec": {
   "display_name": "Python 3 (ipykernel)",
   "language": "python",
   "name": "python3"
  },
  "language_info": {
   "codemirror_mode": {
    "name": "ipython",
    "version": 3
   },
   "file_extension": ".py",
   "mimetype": "text/x-python",
   "name": "python",
   "nbconvert_exporter": "python",
   "pygments_lexer": "ipython3",
   "version": "3.9.7"
  }
 },
 "nbformat": 4,
 "nbformat_minor": 4
}
